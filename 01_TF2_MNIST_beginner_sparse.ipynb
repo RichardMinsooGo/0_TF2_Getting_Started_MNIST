{
  "nbformat": 4,
  "nbformat_minor": 0,
  "metadata": {
    "kernelspec": {
      "display_name": "Python 3",
      "language": "python",
      "name": "python3"
    },
    "language_info": {
      "codemirror_mode": {
        "name": "ipython",
        "version": 3
      },
      "file_extension": ".py",
      "mimetype": "text/x-python",
      "name": "python",
      "nbconvert_exporter": "python",
      "pygments_lexer": "ipython3",
      "version": "3.7.6"
    },
    "colab": {
      "name": "01_TF2_MNIST_test_beginner_sparse.ipynb",
      "provenance": [],
      "collapsed_sections": []
    }
  },
  "cells": [
    {
      "cell_type": "markdown",
      "metadata": {
        "id": "PmcPzSWs-LTI"
      },
      "source": [
        "# MNIST\n",
        "\n",
        "아래의 code는 google colab 에서 시험된 결과이다.\n",
        "Anaconda 에서 제공되는 jupyter notebook에서는 작동이 안될수 있다.\n",
        "추천하는 방법은 notebook이 아니라 python 파일 자체를 실행하라는 것이다. TPU 예제만 빼고는 anaconda prompt 에서 *.py 파일을 실행하는 방법을 추천한다."
      ]
    },
    {
      "cell_type": "code",
      "metadata": {
        "id": "cL0p_XHK-LTI"
      },
      "source": [
        "import tensorflow as tf\n"
      ],
      "execution_count": 7,
      "outputs": []
    },
    {
      "cell_type": "markdown",
      "metadata": {
        "id": "y9I-GE2kCW2I"
      },
      "source": [
        "Tensorflow2 에서는 아래와 같이 MNIST 데이터를 부를수 있다. \n",
        "\" sparse_categorical_crossentropy \"를 사용하기 위하여 는 Y_Train/Y_test 값을 10개정도 출력시켜 보자.\n"
      ]
    },
    {
      "cell_type": "code",
      "metadata": {
        "colab": {
          "base_uri": "https://localhost:8080/"
        },
        "id": "sup1ul_8-LTI",
        "outputId": "a33846f2-c029-4b6c-a027-c07eb60f7c07"
      },
      "source": [
        "mnist = tf.keras.datasets.mnist\n",
        "(X_train, Y_train), (X_test, Y_test) = mnist.load_data()\n",
        "X_train, X_test = X_train / 255.0, X_test / 255.0\n",
        "\n",
        "print(Y_train[0:10])"
      ],
      "execution_count": 8,
      "outputs": [
        {
          "output_type": "stream",
          "text": [
            "[5 0 4 1 9 2 1 3 1 4]\n"
          ],
          "name": "stdout"
        }
      ]
    },
    {
      "cell_type": "markdown",
      "metadata": {
        "id": "JxkAJFv8krce"
      },
      "source": [
        "아래에서는 loss 가 \"sparse_categorical_crossentropy\"를 사용하고 있음을 주의하자.\n",
        "이는 위에서 사용된 Y_train/Y_test가 값으로 지정되기 때문이다."
      ]
    },
    {
      "cell_type": "code",
      "metadata": {
        "colab": {
          "base_uri": "https://localhost:8080/"
        },
        "id": "1hB91lA4k9c7",
        "outputId": "96a09769-b20d-44b5-eb8e-22eb21cda024"
      },
      "source": [
        "# sys.exit()\n",
        "\n",
        "model = tf.keras.models.Sequential([\n",
        "  tf.keras.layers.Flatten(input_shape=(28, 28)),\n",
        "  tf.keras.layers.Dense(128, activation='relu'),\n",
        "  tf.keras.layers.Dropout(0.2),\n",
        "  tf.keras.layers.Dense(10, activation='softmax')\n",
        "])\n",
        "\n",
        "model.compile(optimizer='adam',\n",
        "              loss='sparse_categorical_crossentropy',\n",
        "              metrics=['accuracy'])\n",
        "\n",
        "model.fit(X_train, Y_train, epochs=5, verbose=1)\n",
        "\n",
        "model.evaluate(X_test,  Y_test, verbose=2)              \n"
      ],
      "execution_count": 9,
      "outputs": [
        {
          "output_type": "stream",
          "text": [
            "Epoch 1/5\n",
            "1875/1875 [==============================] - 4s 2ms/step - loss: 0.2971 - accuracy: 0.9142\n",
            "Epoch 2/5\n",
            "1875/1875 [==============================] - 4s 2ms/step - loss: 0.1415 - accuracy: 0.9578\n",
            "Epoch 3/5\n",
            "1875/1875 [==============================] - 4s 2ms/step - loss: 0.1055 - accuracy: 0.9683\n",
            "Epoch 4/5\n",
            "1875/1875 [==============================] - 3s 2ms/step - loss: 0.0887 - accuracy: 0.9726\n",
            "Epoch 5/5\n",
            "1875/1875 [==============================] - 3s 2ms/step - loss: 0.0736 - accuracy: 0.9766\n",
            "313/313 - 0s - loss: 0.0729 - accuracy: 0.9788\n"
          ],
          "name": "stdout"
        },
        {
          "output_type": "execute_result",
          "data": {
            "text/plain": [
              "[0.07286478579044342, 0.9787999987602234]"
            ]
          },
          "metadata": {
            "tags": []
          },
          "execution_count": 9
        }
      ]
    },
    {
      "cell_type": "markdown",
      "metadata": {
        "id": "VfcPj5lYr9EH"
      },
      "source": [
        "\"verbose\" 값에 따른 출력의 형태를 알아보면 아래와 같다."
      ]
    },
    {
      "cell_type": "code",
      "metadata": {
        "colab": {
          "base_uri": "https://localhost:8080/",
          "height": 106
        },
        "id": "ZVd3pKSDk6a0",
        "outputId": "8eded0d4-056c-4649-c159-c488f4197f00"
      },
      "source": [
        "\"\"\"\n",
        "verbose default is 1\n",
        "\n",
        "verbose=0 (silent)\n",
        "\n",
        "verbose=1 (progress bar)\n",
        "\n",
        "Train on 186219 samples, validate on 20691 samples\n",
        "Epoch 1/2\n",
        "186219/186219 [==============================] - 85s 455us/step - loss: 0.5815 - acc: \n",
        "0.7728 - val_loss: 0.4917 - val_acc: 0.8029\n",
        "Train on 186219 samples, validate on 20691 samples\n",
        "Epoch 2/2\n",
        "186219/186219 [==============================] - 84s 451us/step - loss: 0.4921 - acc: \n",
        "0.8071 - val_loss: 0.4617 - val_acc: 0.8168\n",
        "\n",
        "\n",
        "verbose=2 (one line per epoch)\n",
        "\n",
        "Train on 186219 samples, validate on 20691 samples\n",
        "Epoch 1/1\n",
        " - 88s - loss: 0.5746 - acc: 0.7753 - val_loss: 0.4816 - val_acc: 0.8075\n",
        "Train on 186219 samples, validate on 20691 samples\n",
        "Epoch 1/1\n",
        " - 88s - loss: 0.4880 - acc: 0.8076 - val_loss: 0.5199 - val_acc: 0.8046\n",
        " \n",
        " \"\"\""
      ],
      "execution_count": 10,
      "outputs": [
        {
          "output_type": "execute_result",
          "data": {
            "application/vnd.google.colaboratory.intrinsic+json": {
              "type": "string"
            },
            "text/plain": [
              "'\\nverbose default is 1\\n\\nverbose=0 (silent)\\n\\nverbose=1 (progress bar)\\n\\nTrain on 186219 samples, validate on 20691 samples\\nEpoch 1/2\\n186219/186219 [==============================] - 85s 455us/step - loss: 0.5815 - acc: \\n0.7728 - val_loss: 0.4917 - val_acc: 0.8029\\nTrain on 186219 samples, validate on 20691 samples\\nEpoch 2/2\\n186219/186219 [==============================] - 84s 451us/step - loss: 0.4921 - acc: \\n0.8071 - val_loss: 0.4617 - val_acc: 0.8168\\n\\n\\nverbose=2 (one line per epoch)\\n\\nTrain on 186219 samples, validate on 20691 samples\\nEpoch 1/1\\n - 88s - loss: 0.5746 - acc: 0.7753 - val_loss: 0.4816 - val_acc: 0.8075\\nTrain on 186219 samples, validate on 20691 samples\\nEpoch 1/1\\n - 88s - loss: 0.4880 - acc: 0.8076 - val_loss: 0.5199 - val_acc: 0.8046\\n \\n '"
            ]
          },
          "metadata": {
            "tags": []
          },
          "execution_count": 10
        }
      ]
    }
  ]
}